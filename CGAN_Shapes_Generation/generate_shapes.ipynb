{
 "cells": [
  {
   "cell_type": "code",
   "execution_count": 8,
   "id": "4d768ad0-d736-43de-bf0c-79bceca969f1",
   "metadata": {},
   "outputs": [],
   "source": [
    "import torch\n",
    "import torch.nn as nn\n",
    "import torch.optim as optim\n",
    "from torchvision import transforms\n",
    "from torchvision.utils import save_image\n",
    "import os\n",
    "import numpy as np\n",
    "from PIL import Image, ImageDraw\n",
    "from tqdm import tqdm\n",
    "num_classes = 3\n",
    "latent_dim = 100\n",
    "image_size = 64\n",
    "batch_size = 32\n",
    "epochs = 10\n",
    "device = torch.device(\"cuda\" if torch.cuda.is_available() else \"cpu\")\n"
   ]
  },
  {
   "cell_type": "code",
   "execution_count": 2,
   "id": "05c905e4-b2ad-4562-aff9-51f34b7858c6",
   "metadata": {},
   "outputs": [],
   "source": [
    "def generate_shape_image(label):\n",
    "    img = Image.new(\"L\", (image_size, image_size), \"black\") \n",
    "    draw = ImageDraw.Draw(img)\n",
    "    color = 255\n",
    "    if label == 0: \n",
    "        draw.ellipse((16, 16, 48, 48), fill=color)\n",
    "    elif label == 1: \n",
    "        draw.rectangle((16, 16, 48, 48), fill=color)\n",
    "    elif label == 2:\n",
    "        draw.polygon([(32, 8), (8, 56), (56, 56)], fill=color)\n",
    "    return img\n",
    "data_images = []\n",
    "data_labels = []\n",
    "for label in range(num_classes):\n",
    "    for _ in range(200):\n",
    "        img = generate_shape_image(label)\n",
    "        data_images.append(transforms.ToTensor()(img))\n",
    "        data_labels.append(label)\n",
    "data_images = torch.stack(data_images)\n",
    "data_labels = torch.tensor(data_labels)\n",
    "dataset = torch.utils.data.TensorDataset(data_images, data_labels)\n",
    "dataloader = torch.utils.data.DataLoader(dataset, batch_size=batch_size, shuffle=True)\n"
   ]
  },
  {
   "cell_type": "code",
   "execution_count": 3,
   "id": "409e790d-b6b1-4f14-b072-cd6db425d4a7",
   "metadata": {},
   "outputs": [],
   "source": [
    "class Generator(nn.Module):\n",
    "    def __init__(self):\n",
    "        super().__init__()\n",
    "        self.label_emb = nn.Embedding(num_classes, num_classes)\n",
    "        self.model = nn.Sequential(\n",
    "            nn.Linear(latent_dim + num_classes, 128),\n",
    "            nn.ReLU(True),\n",
    "            nn.Linear(128, 256),\n",
    "            nn.BatchNorm1d(256),\n",
    "            nn.ReLU(True),\n",
    "            nn.Linear(256, 512),\n",
    "            nn.BatchNorm1d(512),\n",
    "            nn.ReLU(True),\n",
    "            nn.Linear(512, image_size * image_size),\n",
    "            nn.Tanh()\n",
    "        )\n",
    "\n",
    "    def forward(self, noise, labels):\n",
    "        labels = self.label_emb(labels)\n",
    "        gen_input = torch.cat((labels, noise), -1)\n",
    "        img = self.model(gen_input)\n",
    "        img = img.view(img.size(0), 1, image_size, image_size) \n",
    "        return img\n",
    "\n",
    "class Discriminator(nn.Module):\n",
    "    def __init__(self):\n",
    "        super().__init__()\n",
    "        self.label_emb = nn.Embedding(num_classes, num_classes)\n",
    "        self.model = nn.Sequential(\n",
    "            nn.Linear(num_classes + image_size * image_size, 512),\n",
    "            nn.LeakyReLU(0.2, inplace=True),\n",
    "            nn.Linear(512, 256),\n",
    "            nn.LeakyReLU(0.2, inplace=True),\n",
    "            nn.Linear(256, 1),\n",
    "            nn.Sigmoid()\n",
    "        )\n",
    "\n",
    "    def forward(self, img, labels):\n",
    "        labels = self.label_emb(labels)\n",
    "        flat_img = img.view(img.size(0), -1)\n",
    "        d_in = torch.cat((flat_img, labels), -1)\n",
    "        validity = self.model(d_in)\n",
    "        return validity\n"
   ]
  },
  {
   "cell_type": "code",
   "execution_count": 4,
   "id": "27a3fc54-61e0-4bdc-b99b-039e6ba510f6",
   "metadata": {},
   "outputs": [],
   "source": [
    "generator = Generator().to(device)\n",
    "discriminator = Discriminator().to(device)\n",
    "\n",
    "criterion = nn.BCELoss()\n",
    "optimizer_G = optim.Adam(generator.parameters(), lr=0.0002)\n",
    "optimizer_D = optim.Adam(discriminator.parameters(), lr=0.0002)\n",
    "\n",
    "os.makedirs(\"cgan_samples\", exist_ok=True)\n"
   ]
  },
  {
   "cell_type": "code",
   "execution_count": 5,
   "id": "6e3f275a-ebbf-41e1-8305-747778da0902",
   "metadata": {},
   "outputs": [
    {
     "name": "stderr",
     "output_type": "stream",
     "text": [
      "Epoch 1/10: 100%|████████████████████████████| 19/19 [00:01<00:00,  9.65it/s]\n",
      "Epoch 2/10: 100%|████████████████████████████| 19/19 [00:01<00:00, 10.92it/s]\n",
      "Epoch 3/10: 100%|████████████████████████████| 19/19 [00:01<00:00,  9.88it/s]\n",
      "Epoch 4/10: 100%|████████████████████████████| 19/19 [00:01<00:00, 10.71it/s]\n",
      "Epoch 5/10: 100%|████████████████████████████| 19/19 [00:01<00:00, 10.18it/s]\n",
      "Epoch 6/10: 100%|████████████████████████████| 19/19 [00:01<00:00,  9.69it/s]\n",
      "Epoch 7/10: 100%|████████████████████████████| 19/19 [00:01<00:00,  9.99it/s]\n",
      "Epoch 8/10: 100%|████████████████████████████| 19/19 [00:02<00:00,  9.49it/s]\n",
      "Epoch 9/10: 100%|████████████████████████████| 19/19 [00:03<00:00,  5.70it/s]\n",
      "Epoch 10/10: 100%|███████████████████████████| 19/19 [00:02<00:00,  8.30it/s]\n"
     ]
    }
   ],
   "source": [
    "for epoch in range(epochs):\n",
    "    for imgs, labels in tqdm(dataloader, desc=f\"Epoch {epoch+1}/{epochs}\"):\n",
    "        batch_size_curr = imgs.size(0)\n",
    "        real = torch.ones(batch_size_curr, 1).to(device)\n",
    "        fake = torch.zeros(batch_size_curr, 1).to(device)\n",
    "\n",
    "        imgs, labels = imgs.to(device), labels.to(device)\n",
    "        optimizer_G.zero_grad()\n",
    "        z = torch.randn(batch_size_curr, latent_dim).to(device)\n",
    "        gen_labels = torch.randint(0, num_classes, (batch_size_curr,)).to(device)\n",
    "        gen_imgs = generator(z, gen_labels)\n",
    "        g_loss = criterion(discriminator(gen_imgs, gen_labels), real)\n",
    "        g_loss.backward()\n",
    "        optimizer_G.step()\n",
    "        optimizer_D.zero_grad()\n",
    "        real_loss = criterion(discriminator(imgs, labels), real)\n",
    "        fake_loss = criterion(discriminator(gen_imgs.detach(), gen_labels), fake)\n",
    "        d_loss = (real_loss + fake_loss) / 2\n",
    "        d_loss.backward()\n",
    "        optimizer_D.step()\n",
    "    save_image(gen_imgs[:9], f\"cgan_samples/epoch_{epoch+1}.png\", nrow=3, normalize=True)\n"
   ]
  },
  {
   "cell_type": "code",
   "execution_count": 6,
   "id": "af5a9552-cb1c-4928-b1f7-5507e6db66da",
   "metadata": {},
   "outputs": [
    {
     "name": "stdout",
     "output_type": "stream",
     "text": [
      "Training complete! Model saved as generator_shapes.pth\n"
     ]
    }
   ],
   "source": [
    "torch.save(generator.state_dict(), \"generator_shapes.pth\")\n",
    "print(\"Training complete! Model saved as generator_shapes.pth\")\n"
   ]
  },
  {
   "cell_type": "code",
   "execution_count": 9,
   "id": "11cea991-e83f-4d24-8608-3166746dc41b",
   "metadata": {},
   "outputs": [
    {
     "name": "stdout",
     "output_type": "stream",
     "text": [
      "Images saved in generated_shapes/\n"
     ]
    }
   ],
   "source": [
    "import torch\n",
    "from torchvision.utils import save_image\n",
    "import os\n",
    "\n",
    "os.makedirs(\"generated_shapes\", exist_ok=True)\n",
    "\n",
    "class Generator(torch.nn.Module):\n",
    "    def __init__(self):\n",
    "        super().__init__()\n",
    "        self.label_emb = torch.nn.Embedding(num_classes, num_classes)\n",
    "        self.model = torch.nn.Sequential(\n",
    "            torch.nn.Linear(latent_dim + num_classes, 128),\n",
    "            torch.nn.ReLU(True),\n",
    "            torch.nn.Linear(128, 256),\n",
    "            torch.nn.BatchNorm1d(256),\n",
    "            torch.nn.ReLU(True),\n",
    "            torch.nn.Linear(256, 512),\n",
    "            torch.nn.BatchNorm1d(512),\n",
    "            torch.nn.ReLU(True),\n",
    "            torch.nn.Linear(512, image_size * image_size),\n",
    "            torch.nn.Tanh()\n",
    "        )\n",
    "\n",
    "    def forward(self, noise, labels):\n",
    "        labels = self.label_emb(labels)\n",
    "        gen_input = torch.cat((labels, noise), -1)\n",
    "        img = self.model(gen_input)\n",
    "        img = img.view(img.size(0), 1, image_size, image_size)\n",
    "        return img\n",
    "\n",
    "generator = Generator().to(device)\n",
    "generator.load_state_dict(torch.load(\"generator_shapes.pth\", map_location=device))\n",
    "generator.eval()\n",
    "\n",
    "z = torch.randn(9, latent_dim).to(device)  # random noise\n",
    "labels = torch.randint(0, num_classes, (9,)).to(device)  # random shape labels\n",
    "gen_imgs = generator(z, labels)\n",
    "\n",
    "save_image(gen_imgs, \"generated_shapes/generated.png\", nrow=3, normalize=True)\n",
    "print(\"Images saved in generated_shapes/\")\n"
   ]
  },
  {
   "cell_type": "code",
   "execution_count": null,
   "id": "a36efb8b-d7fa-402c-8f81-448bba525da0",
   "metadata": {},
   "outputs": [],
   "source": []
  },
  {
   "cell_type": "code",
   "execution_count": null,
   "id": "b40266a5-4a16-41d2-aaa2-220ba29875fa",
   "metadata": {},
   "outputs": [],
   "source": []
  }
 ],
 "metadata": {
  "kernelspec": {
   "display_name": "Python 3 (ipykernel)",
   "language": "python",
   "name": "python3"
  },
  "language_info": {
   "codemirror_mode": {
    "name": "ipython",
    "version": 3
   },
   "file_extension": ".py",
   "mimetype": "text/x-python",
   "name": "python",
   "nbconvert_exporter": "python",
   "pygments_lexer": "ipython3",
   "version": "3.12.5"
  }
 },
 "nbformat": 4,
 "nbformat_minor": 5
}
